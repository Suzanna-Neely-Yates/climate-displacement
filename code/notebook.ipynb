{
 "cells": [
  {
   "cell_type": "markdown",
   "metadata": {},
   "source": [
    "Notebook"
   ]
  },
  {
   "cell_type": "markdown",
   "metadata": {},
   "source": [
    "# Climate Displacement"
   ]
  },
  {
   "cell_type": "markdown",
   "metadata": {},
   "source": [
    "Year\n",
    "State\n",
    "Households Inflow (Number of Returns)\n",
    "Households Outflow (Number of Returns)\n",
    "Individuals Inflow (Number of Exemptions)\n",
    "Individuals Outflow (Number of Exemptions)\n",
    "Chemical\n",
    "Dam/Levee Break\n",
    "Drought\n",
    "Earthquake\n",
    "Fire\n",
    "Flood\n",
    "Human Cause\n",
    "Hurricane\n",
    "Ice\n",
    "Mud/Landslide\n",
    "Other\n",
    "snow\n",
    "Storm\n",
    "Terrorism\n",
    "Tornado\n",
    "Tsunami\n",
    "Typhoon\n",
    "Volcano\n",
    "Water\n",
    "Winter"
   ]
  },
  {
   "cell_type": "code",
   "execution_count": null,
   "metadata": {},
   "outputs": [],
   "source": [
    "Folders Setup\n",
    "\n",
    "code \n",
    "    notebook.ipynb\n",
    "    data\n",
    "        Disasters\n",
    "            FEMA_dataset.csv\n",
    "        StateMigration\n",
    "            \n",
    "        \n"
   ]
  },
  {
   "cell_type": "code",
   "execution_count": null,
   "metadata": {},
   "outputs": [],
   "source": [
    "Pseudo Code:\n",
    "\n",
    "1. Create new FEMA_dataset\n",
    "    - contains Year, State, Disaster Type\n",
    "2. "
   ]
  }
 ],
 "metadata": {
  "language_info": {
   "name": "python"
  },
  "orig_nbformat": 4
 },
 "nbformat": 4,
 "nbformat_minor": 2
}
